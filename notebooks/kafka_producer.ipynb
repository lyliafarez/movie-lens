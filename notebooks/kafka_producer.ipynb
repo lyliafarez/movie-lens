{
 "cells": [
  {
   "cell_type": "markdown",
   "id": "0e82b72a-6d1b-4408-bf5b-cdc3d0cc6e54",
   "metadata": {},
   "source": [
    "# Kafka Producer"
   ]
  },
  {
   "cell_type": "code",
   "execution_count": 1,
   "id": "e18c47a0-f288-4759-9b49-4c844a1a4fde",
   "metadata": {},
   "outputs": [],
   "source": [
    "#imports\n",
    "from kafka import KafkaProducer\n",
    "import json\n",
    "import time\n",
    "import random"
   ]
  },
  {
   "cell_type": "code",
   "execution_count": 11,
   "id": "b5c6b181-4be3-457b-89c3-50e616c22b00",
   "metadata": {},
   "outputs": [],
   "source": [
    "# Connexion à Kafka\n",
    "TOPIC_NAME = 'movie_rating'\n",
    "producer = KafkaProducer(\n",
    "    bootstrap_servers='localhost:9092',\n",
    "    value_serializer=lambda v: json.dumps(v).encode('utf-8')\n",
    ")"
   ]
  },
  {
   "cell_type": "code",
   "execution_count": 12,
   "id": "689c70fd-fd23-4f78-b61c-9fb960f5a25d",
   "metadata": {},
   "outputs": [],
   "source": [
    "#Générer des notes\n",
    "def simulate_ratings():\n",
    "    user_id = random.choice(list(range(138000)))\n",
    "    movie_id = random.choice(list(range(26744)))\n",
    "    rating = round(random.uniform(0.5, 5.0), 1)\n",
    "    timestamp = int(time.time())\n",
    "    return {\n",
    "        'userId' : user_id,\n",
    "        'movieId' : movie_id,\n",
    "        'rating' : rating,\n",
    "        'timestamp' : timestamp\n",
    "    }"
   ]
  },
  {
   "cell_type": "code",
   "execution_count": 13,
   "id": "d024de31-0dd3-4eed-a21e-701465a07c31",
   "metadata": {},
   "outputs": [],
   "source": [
    "#Fonction pour envoyer les ratings à Kafka\n",
    "def send_ratings():\n",
    "    try:\n",
    "        print(f\"Ratings en cours d'envoi sur le topic suivant : {TOPIC_NAME}\")\n",
    "        while True:\n",
    "            rating = simulate_ratings()\n",
    "            producer.send(TOPIC_NAME, value=rating)\n",
    "            print(f\"Rating envoyé: {rating}\")\n",
    "            time.sleep(2)\n",
    "    except Exception as e:\n",
    "        print(f\"Erreur {e}\")\n",
    "    finally:\n",
    "        producer.close()"
   ]
  },
  {
   "cell_type": "code",
   "execution_count": null,
   "id": "646b668b-2f9c-4c27-96e1-f38ddc5bd921",
   "metadata": {},
   "outputs": [
    {
     "name": "stdout",
     "output_type": "stream",
     "text": [
      "Ratings en cours d'envoi sur le topic suivant : movie_rating\n",
      "Rating envoyé: {'userId': 101370, 'movieId': 19381, 'rating': 4.6, 'timestamp': 1746023897}\n",
      "Rating envoyé: {'userId': 74895, 'movieId': 1725, 'rating': 2.7, 'timestamp': 1746023899}\n",
      "Rating envoyé: {'userId': 82602, 'movieId': 17751, 'rating': 2.2, 'timestamp': 1746023901}\n",
      "Rating envoyé: {'userId': 83292, 'movieId': 1521, 'rating': 1.8, 'timestamp': 1746023903}\n",
      "Rating envoyé: {'userId': 70516, 'movieId': 3723, 'rating': 2.3, 'timestamp': 1746023905}\n",
      "Rating envoyé: {'userId': 120770, 'movieId': 9292, 'rating': 2.3, 'timestamp': 1746023907}\n",
      "Rating envoyé: {'userId': 128331, 'movieId': 10803, 'rating': 3.9, 'timestamp': 1746023910}\n",
      "Rating envoyé: {'userId': 48041, 'movieId': 4471, 'rating': 4.4, 'timestamp': 1746023912}\n",
      "Rating envoyé: {'userId': 48742, 'movieId': 5041, 'rating': 0.7, 'timestamp': 1746023914}\n",
      "Rating envoyé: {'userId': 33808, 'movieId': 13976, 'rating': 1.0, 'timestamp': 1746023916}\n",
      "Rating envoyé: {'userId': 31886, 'movieId': 26223, 'rating': 4.6, 'timestamp': 1746023918}\n",
      "Rating envoyé: {'userId': 109241, 'movieId': 15078, 'rating': 0.8, 'timestamp': 1746023920}\n",
      "Rating envoyé: {'userId': 106738, 'movieId': 12271, 'rating': 2.2, 'timestamp': 1746023922}\n",
      "Rating envoyé: {'userId': 105490, 'movieId': 20251, 'rating': 1.2, 'timestamp': 1746023924}\n",
      "Rating envoyé: {'userId': 105137, 'movieId': 16490, 'rating': 3.6, 'timestamp': 1746023926}\n",
      "Rating envoyé: {'userId': 50151, 'movieId': 3000, 'rating': 3.9, 'timestamp': 1746023928}\n",
      "Rating envoyé: {'userId': 12799, 'movieId': 5720, 'rating': 1.5, 'timestamp': 1746023930}\n",
      "Rating envoyé: {'userId': 10058, 'movieId': 9572, 'rating': 3.0, 'timestamp': 1746023932}\n",
      "Rating envoyé: {'userId': 81307, 'movieId': 19719, 'rating': 4.0, 'timestamp': 1746023934}\n",
      "Rating envoyé: {'userId': 87265, 'movieId': 21859, 'rating': 0.9, 'timestamp': 1746023936}\n",
      "Rating envoyé: {'userId': 129353, 'movieId': 18540, 'rating': 1.1, 'timestamp': 1746023938}\n",
      "Rating envoyé: {'userId': 103106, 'movieId': 1412, 'rating': 3.1, 'timestamp': 1746023940}\n",
      "Rating envoyé: {'userId': 81328, 'movieId': 23496, 'rating': 4.1, 'timestamp': 1746023942}\n",
      "Rating envoyé: {'userId': 56142, 'movieId': 15325, 'rating': 4.0, 'timestamp': 1746023944}\n",
      "Rating envoyé: {'userId': 37057, 'movieId': 11108, 'rating': 4.1, 'timestamp': 1746023946}\n",
      "Rating envoyé: {'userId': 17538, 'movieId': 10242, 'rating': 3.0, 'timestamp': 1746023948}\n",
      "Rating envoyé: {'userId': 36916, 'movieId': 17718, 'rating': 2.8, 'timestamp': 1746023950}\n",
      "Rating envoyé: {'userId': 74822, 'movieId': 19016, 'rating': 4.9, 'timestamp': 1746023952}\n",
      "Rating envoyé: {'userId': 54015, 'movieId': 13930, 'rating': 3.1, 'timestamp': 1746023954}\n",
      "Rating envoyé: {'userId': 17068, 'movieId': 23460, 'rating': 2.2, 'timestamp': 1746023956}\n",
      "Rating envoyé: {'userId': 53225, 'movieId': 6387, 'rating': 1.4, 'timestamp': 1746023958}\n",
      "Rating envoyé: {'userId': 48034, 'movieId': 2288, 'rating': 3.9, 'timestamp': 1746023960}\n",
      "Rating envoyé: {'userId': 134791, 'movieId': 14667, 'rating': 1.5, 'timestamp': 1746023962}\n",
      "Rating envoyé: {'userId': 84688, 'movieId': 8693, 'rating': 3.8, 'timestamp': 1746023964}\n",
      "Rating envoyé: {'userId': 106241, 'movieId': 25209, 'rating': 4.4, 'timestamp': 1746023966}\n",
      "Rating envoyé: {'userId': 61610, 'movieId': 13725, 'rating': 0.8, 'timestamp': 1746023968}\n",
      "Rating envoyé: {'userId': 118248, 'movieId': 12579, 'rating': 3.7, 'timestamp': 1746023970}\n",
      "Rating envoyé: {'userId': 27127, 'movieId': 15487, 'rating': 2.3, 'timestamp': 1746023972}\n",
      "Rating envoyé: {'userId': 59581, 'movieId': 5416, 'rating': 3.3, 'timestamp': 1746023974}\n",
      "Rating envoyé: {'userId': 49941, 'movieId': 10212, 'rating': 4.6, 'timestamp': 1746023976}\n",
      "Rating envoyé: {'userId': 123389, 'movieId': 241, 'rating': 2.2, 'timestamp': 1746023978}\n",
      "Rating envoyé: {'userId': 35926, 'movieId': 23143, 'rating': 2.5, 'timestamp': 1746023980}\n",
      "Rating envoyé: {'userId': 119529, 'movieId': 20058, 'rating': 0.6, 'timestamp': 1746023982}\n",
      "Rating envoyé: {'userId': 132591, 'movieId': 3070, 'rating': 3.8, 'timestamp': 1746023984}\n",
      "Rating envoyé: {'userId': 105141, 'movieId': 24192, 'rating': 2.3, 'timestamp': 1746023986}\n",
      "Rating envoyé: {'userId': 4934, 'movieId': 20909, 'rating': 0.8, 'timestamp': 1746023988}\n",
      "Rating envoyé: {'userId': 22443, 'movieId': 4165, 'rating': 1.5, 'timestamp': 1746023990}\n",
      "Rating envoyé: {'userId': 75948, 'movieId': 6007, 'rating': 1.7, 'timestamp': 1746023992}\n"
     ]
    }
   ],
   "source": [
    "send_ratings()"
   ]
  },
  {
   "cell_type": "code",
   "execution_count": null,
   "id": "9aa224fe-46b2-450b-9747-2d6deef808eb",
   "metadata": {},
   "outputs": [],
   "source": []
  }
 ],
 "metadata": {
  "kernelspec": {
   "display_name": "Python 3 (ipykernel)",
   "language": "python",
   "name": "python3"
  },
  "language_info": {
   "codemirror_mode": {
    "name": "ipython",
    "version": 3
   },
   "file_extension": ".py",
   "mimetype": "text/x-python",
   "name": "python",
   "nbconvert_exporter": "python",
   "pygments_lexer": "ipython3",
   "version": "3.10.12"
  }
 },
 "nbformat": 4,
 "nbformat_minor": 5
}
