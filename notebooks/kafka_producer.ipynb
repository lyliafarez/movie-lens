{
 "cells": [
  {
   "cell_type": "markdown",
   "id": "0e82b72a-6d1b-4408-bf5b-cdc3d0cc6e54",
   "metadata": {},
   "source": [
    "# Kafka Producer"
   ]
  },
  {
   "cell_type": "code",
   "execution_count": 3,
   "id": "e18c47a0-f288-4759-9b49-4c844a1a4fde",
   "metadata": {},
   "outputs": [],
   "source": [
    "#imports\n",
    "from kafka import KafkaProducer\n",
    "import json\n",
    "import time\n",
    "import random"
   ]
  },
  {
   "cell_type": "code",
   "execution_count": 16,
   "id": "b5c6b181-4be3-457b-89c3-50e616c22b00",
   "metadata": {},
   "outputs": [],
   "source": [
    "# Connexion à Kafka\n",
    "TOPIC_NAME = 'movie_rating'\n",
    "producer = KafkaProducer(\n",
    "    bootstrap_servers='localhost:9092',\n",
    "    value_serializer=lambda v: json.dumps(v).encode('utf-8')\n",
    ")"
   ]
  },
  {
   "cell_type": "code",
   "execution_count": 10,
   "id": "689c70fd-fd23-4f78-b61c-9fb960f5a25d",
   "metadata": {},
   "outputs": [],
   "source": [
    "#Générer des notes\n",
    "def simulate_ratings():\n",
    "    user_id = random.choice(list(range(138000)))\n",
    "    movie_id = random.choice(list(range(26744)))\n",
    "    rating = round(random.uniform(0.5, 5.0), 1)\n",
    "    timestamp = int(time.time())\n",
    "    return {\n",
    "        'userId' : user_id,\n",
    "        'movieId' : movie_id,\n",
    "        'rating' : rating,\n",
    "        'timestamp' : timestamp\n",
    "    }"
   ]
  },
  {
   "cell_type": "code",
   "execution_count": 15,
   "id": "d024de31-0dd3-4eed-a21e-701465a07c31",
   "metadata": {},
   "outputs": [],
   "source": [
    "#Fonction pour envoyer les ratings à Kafka\n",
    "def send_ratings():\n",
    "    try:\n",
    "        print(f\"Ratings en cours d'envoi sur le topic suivant : {TOPIC_NAME}\")\n",
    "        while True:\n",
    "            rating = simulate_ratings()\n",
    "            producer.send(TOPIC_NAME, value=rating)\n",
    "            print(f\"Rating envoyé: {rating}\")\n",
    "            time.sleep(2)\n",
    "    except Exception as e:\n",
    "        print(f\"Erreur {e}\")\n",
    "    finally:\n",
    "        producer.close()"
   ]
  },
  {
   "cell_type": "code",
   "execution_count": null,
   "id": "646b668b-2f9c-4c27-96e1-f38ddc5bd921",
   "metadata": {},
   "outputs": [
    {
     "name": "stdout",
     "output_type": "stream",
     "text": [
      "Ratings en cours d'envoi sur le topic suivant : movie_rating\n",
      "Rating envoyé: {'userId': 120587, 'movieId': 2215, 'rating': 4.2, 'timestamp': 1746017550}\n",
      "Rating envoyé: {'userId': 45644, 'movieId': 20684, 'rating': 1.9, 'timestamp': 1746017552}\n",
      "Rating envoyé: {'userId': 6792, 'movieId': 4936, 'rating': 2.7, 'timestamp': 1746017554}\n",
      "Rating envoyé: {'userId': 99238, 'movieId': 21687, 'rating': 2.9, 'timestamp': 1746017556}\n"
     ]
    }
   ],
   "source": [
    "send_ratings()"
   ]
  }
 ],
 "metadata": {
  "kernelspec": {
   "display_name": "Python 3 (ipykernel)",
   "language": "python",
   "name": "python3"
  },
  "language_info": {
   "codemirror_mode": {
    "name": "ipython",
    "version": 3
   },
   "file_extension": ".py",
   "mimetype": "text/x-python",
   "name": "python",
   "nbconvert_exporter": "python",
   "pygments_lexer": "ipython3",
   "version": "3.10.12"
  }
 },
 "nbformat": 4,
 "nbformat_minor": 5
}
