{
 "cells": [
  {
   "cell_type": "code",
   "execution_count": 2,
   "id": "3fd44df4-6ef6-4658-9987-7ec5cf1a93cd",
   "metadata": {},
   "outputs": [],
   "source": [
    "#imports\n",
    "from pyspark.sql import SparkSession\n",
    "from pyspark.sql.functions import col, year, month, dayofmonth, count, mean, stddev, regexp_extract,avg, count\n",
    "from pyspark.sql.window import Window\n",
    "\n",
    "import matplotlib.pyplot as plt\n",
    "import seaborn as sns\n",
    "import pandas as pd"
   ]
  },
  {
   "cell_type": "code",
   "execution_count": 3,
   "id": "fe65ac9a-5587-463e-b881-70d669673153",
   "metadata": {},
   "outputs": [
    {
     "name": "stderr",
     "output_type": "stream",
     "text": [
      "Setting default log level to \"WARN\".\n",
      "To adjust logging level use sc.setLogLevel(newLevel). For SparkR, use setLogLevel(newLevel).\n",
      "25/05/02 09:22:14 WARN NativeCodeLoader: Unable to load native-hadoop library for your platform... using builtin-java classes where applicable\n"
     ]
    }
   ],
   "source": [
    "#initialisation de la session spark\n",
    "spark = SparkSession.builder \\\n",
    "    .appName(\"BatchETLPipelineEnhanced\") \\\n",
    "    .master(\"local[*]\") \\\n",
    "    .config(\"spark.executor.memory\", \"4g\") \\\n",
    "    .config(\"spark.driver.memory\", \"4g\") \\\n",
    "    .config(\"spark.sql.shuffle.partitions\", \"200\") \\\n",
    "    .config(\"spark.hadoop.fs.defaultFS\", \"hdfs://namenode:9000\") \\\n",
    "    .getOrCreate()\n",
    "\n",
    "\n"
   ]
  },
  {
   "cell_type": "code",
   "execution_count": 4,
   "id": "324b15fb-2d53-487f-825b-66145bb50f53",
   "metadata": {},
   "outputs": [],
   "source": [
    "def safe_load_dataframe(func, *args, error_msg=\"Erreur lors du chargement des données\", **kwargs):\n",
    "    \"\"\"Fonction utilitaire pour charger les dataframes en toute sécurité avec gestion des erreurs\"\"\"\n",
    "    try:\n",
    "        return func(*args, **kwargs)\n",
    "    except Exception as e:\n",
    "        print(f\"{error_msg}: {str(e)}\")\n",
    "        import sys\n",
    "        sys.exit(1)\n"
   ]
  },
  {
   "cell_type": "code",
   "execution_count": 5,
   "id": "06298e43-285e-4e7b-a1bc-da7bbb0c3967",
   "metadata": {},
   "outputs": [
    {
     "name": "stderr",
     "output_type": "stream",
     "text": [
      "                                                                                "
     ]
    }
   ],
   "source": [
    "  # Chargement movies\n",
    "movies_minimal = safe_load_dataframe(\n",
    "    spark.read.csv,\n",
    "    \"hdfs://namenode:9000/movie-lens/rawdata/movie.csv\",\n",
    "    header=True, inferSchema=True\n",
    ")"
   ]
  },
  {
   "cell_type": "code",
   "execution_count": 6,
   "id": "9a13fa64-2e95-4e00-ade8-dd4c8f92d220",
   "metadata": {},
   "outputs": [
    {
     "name": "stderr",
     "output_type": "stream",
     "text": [
      "                                                                                "
     ]
    }
   ],
   "source": [
    "# Charger un très petit échantillon des évaluations\n",
    "ratings_minimal = safe_load_dataframe(\n",
    "        spark.read.csv,\n",
    "        \"hdfs://namenode:9000/movie-lens/rawdata/rating.csv\", \n",
    "        header=True, inferSchema=True\n",
    ").limit(1000000).cache()"
   ]
  },
  {
   "cell_type": "code",
   "execution_count": null,
   "id": "c80efad8-7379-450c-846b-63f4ab7c00ba",
   "metadata": {},
   "outputs": [],
   "source": []
  },
  {
   "cell_type": "code",
   "execution_count": null,
   "id": "263d2731-ccfd-47d4-a8cd-ec1d64b0c055",
   "metadata": {},
   "outputs": [],
   "source": []
  },
  {
   "cell_type": "code",
   "execution_count": null,
   "id": "029be6bc-4e58-417c-85bc-94a7f34b5a6a",
   "metadata": {},
   "outputs": [],
   "source": []
  },
  {
   "cell_type": "code",
   "execution_count": null,
   "id": "eabf0471-a64e-4c71-b942-afda95bdc39a",
   "metadata": {},
   "outputs": [],
   "source": []
  },
  {
   "cell_type": "code",
   "execution_count": 7,
   "id": "2f21ce18-098f-455f-943f-84384982faf7",
   "metadata": {},
   "outputs": [
    {
     "data": {
      "text/plain": [
       "'#chargement du csv movies\\nmovies = spark.read.csv(\\n    \"hdfs://namenode:9000/movie-lens/rawdata/movie.csv\",\\n    header=True, inferSchema=True\\n)'"
      ]
     },
     "execution_count": 7,
     "metadata": {},
     "output_type": "execute_result"
    }
   ],
   "source": [
    "'''#chargement du csv movies\n",
    "movies = spark.read.csv(\n",
    "    \"hdfs://namenode:9000/movie-lens/rawdata/movie.csv\",\n",
    "    header=True, inferSchema=True\n",
    ")'''"
   ]
  },
  {
   "cell_type": "code",
   "execution_count": 8,
   "id": "ce9de8f7-db56-48a9-b65e-e0332b702367",
   "metadata": {},
   "outputs": [
    {
     "data": {
      "text/plain": [
       "'#chargement du csv rating\\nratings = spark.read.csv(\\n    \"hdfs://namenode:9000/movie-lens/rawdata/rating.csv\",\\n    header=True, inferSchema=True\\n)'"
      ]
     },
     "execution_count": 8,
     "metadata": {},
     "output_type": "execute_result"
    }
   ],
   "source": [
    "'''#chargement du csv rating\n",
    "ratings = spark.read.csv(\n",
    "    \"hdfs://namenode:9000/movie-lens/rawdata/rating.csv\",\n",
    "    header=True, inferSchema=True\n",
    ")'''"
   ]
  },
  {
   "cell_type": "code",
   "execution_count": 9,
   "id": "d8a6e5de-8b7b-4f6f-bd5f-c5f50e870161",
   "metadata": {},
   "outputs": [],
   "source": [
    "# Nettoyage initial des données\n",
    "# Nettoyage des films\n",
    "movies = movies_minimal.dropna()  # Supprimer les lignes avec des valeurs manquantes\n",
    "movies = movies.dropDuplicates(['movieId'])  # Supprimer les doublons\n",
    "\n",
    "# Nettoyage des évaluations\n",
    "ratings = ratings_minimal.dropna()\n",
    "ratings = ratings.dropDuplicates(['userId', 'movieId'])  # Une évaluation par utilisateur/film"
   ]
  },
  {
   "cell_type": "code",
   "execution_count": 10,
   "id": "b780bb94-4f24-4b45-a6f8-ddfddf13218d",
   "metadata": {},
   "outputs": [],
   "source": [
    "from pyspark.sql.functions import to_date, year, month, dayofmonth\n"
   ]
  },
  {
   "cell_type": "code",
   "execution_count": 11,
   "id": "8711e033-0177-496d-ace1-f000b894d86e",
   "metadata": {},
   "outputs": [],
   "source": [
    "ratings = ratings.withColumn('rating_date', to_date('timestamp')).withColumn('rating_year', year('timestamp')).withColumn('rating_month', month('timestamp')).withColumn('rating_day', dayofmonth('timestamp'))"
   ]
  },
  {
   "cell_type": "code",
   "execution_count": 12,
   "id": "bf031074-903b-416e-a136-ca76427a0eb6",
   "metadata": {},
   "outputs": [],
   "source": [
    "# Filtrer les évaluations extrêmes (trop basses ou trop hautes)\n",
    "ratings = ratings.filter((ratings.rating >= 0.5) & (ratings.rating <= 5.0))"
   ]
  },
  {
   "cell_type": "code",
   "execution_count": 13,
   "id": "0b8e9418-57d6-427a-a154-ef802fe61952",
   "metadata": {},
   "outputs": [],
   "source": [
    "#ne garder que les films avec un minimum d'évaluations\n",
    "from pyspark.sql.functions import count\n",
    "movie_rating_counts = ratings.groupBy('movieId').agg(count('rating').alias('rating_count'))\n",
    "movies = movies.join(movie_rating_counts, 'movieId', 'left')\n",
    "movies = movies.filter(movies.rating_count >= 10)  "
   ]
  },
  {
   "cell_type": "code",
   "execution_count": 14,
   "id": "791f0a60-2003-4683-acd7-c9650150c69a",
   "metadata": {},
   "outputs": [],
   "source": [
    "#ne garder que les utilisateurs ayant évalué un minimum de films\n",
    "user_rating_counts = ratings.groupBy('userId').agg(count('rating').alias('user_rating_count'))\n",
    "ratings = ratings.join(user_rating_counts, 'userId', 'left')\n",
    "ratings = ratings.filter(ratings.user_rating_count >= 20)  # Seuil à ajuster"
   ]
  },
  {
   "cell_type": "code",
   "execution_count": 15,
   "id": "f1ea3006-194d-4f9c-a3d3-b9d4ee70199d",
   "metadata": {},
   "outputs": [],
   "source": [
    "# Ajout d'informations sur les films aux évaluations\n",
    "enriched_ratings = ratings.join(movies, \"movieId\", \"left\")\n",
    "\n",
    "# Calcul de la moyenne des notes par film\n",
    "movie_stats = ratings.groupBy(\"movieId\").agg(\n",
    "    avg(\"rating\").alias(\"avg_rating\"),\n",
    "    count(\"rating\").alias(\"num_ratings\")\n",
    ")\n",
    "\n",
    "# Calcul de l'activité des utilisateurs\n",
    "user_stats = ratings.groupBy(\"userId\").agg(\n",
    "    count(\"rating\").alias(\"user_total_ratings\"),\n",
    "    avg(\"rating\").alias(\"user_avg_rating\")\n",
    ")\n",
    "# Fusion des statistiques avec les données enrichies\n",
    "enriched_ratings = enriched_ratings.join(movie_stats, \"movieId\", \"left\")\n",
    "enriched_ratings = enriched_ratings.join(user_stats, \"userId\", \"left\")"
   ]
  },
  {
   "cell_type": "code",
   "execution_count": 16,
   "id": "a769def4-bd50-43f6-a397-c4b3ef31c3df",
   "metadata": {},
   "outputs": [],
   "source": [
    "from pyspark.ml.recommendation import ALS\n",
    "from pyspark.ml.evaluation import RegressionEvaluator\n",
    "from pyspark.ml.tuning import ParamGridBuilder, CrossValidator\n",
    "from pyspark.streaming import StreamingContext\n",
    "from pyspark.sql.functions import from_json, col, struct, rand\n",
    "from pyspark.sql.types import StructType, StructField, IntegerType, FloatType, StringType, TimestampType\n",
    "import time\n",
    "import os\n",
    "import matplotlib.pyplot as plt\n",
    "import numpy as np"
   ]
  },
  {
   "cell_type": "markdown",
   "id": "a87d7dfc-fe74-4a68-ace4-11198f077cc2",
   "metadata": {},
   "source": [
    "### Modele ALS"
   ]
  },
  {
   "cell_type": "code",
   "execution_count": 17,
   "id": "7b5a62e5-a50c-4b3c-bf0b-30969a0b77ec",
   "metadata": {},
   "outputs": [],
   "source": [
    "training_data = enriched_ratings.orderBy(rand())\n",
    "training_data = training_data.select(\"userId\", \"movieId\", \"rating\")"
   ]
  },
  {
   "cell_type": "code",
   "execution_count": 18,
   "id": "39a22cf5-9599-4c39-9d41-66fa6d3254d3",
   "metadata": {},
   "outputs": [],
   "source": [
    "\n",
    "\n",
    "# Split train/test\n",
    "train, test = training_data.randomSplit([0.8, 0.2], seed=42)\n"
   ]
  },
  {
   "cell_type": "code",
   "execution_count": 19,
   "id": "d5abf614-11a2-43c9-b9d2-09149cab37a1",
   "metadata": {
    "scrolled": true
   },
   "outputs": [],
   "source": [
    "# entrainement du model\n",
    "als = ALS(\n",
    "    userCol=\"userId\",\n",
    "    itemCol=\"movieId\",\n",
    "    ratingCol=\"rating\",\n",
    "    rank=20,\n",
    "    maxIter=10,\n",
    "    regParam=0.1,\n",
    "    coldStartStrategy=\"drop\",  # Pour éviter NaN lors des prédictions\n",
    "    nonnegative=True\n",
    ")\n",
    "\n",
    "\n"
   ]
  },
  {
   "cell_type": "code",
   "execution_count": 20,
   "id": "c39048fb-52c0-4104-8ccd-1974c98e610b",
   "metadata": {},
   "outputs": [
    {
     "name": "stderr",
     "output_type": "stream",
     "text": [
      "25/05/02 09:23:42 WARN BlockManager: Block rdd_27_0 already exists on this machine; not re-adding it\n",
      "25/05/02 09:24:20 WARN InstanceBuilder: Failed to load implementation from:dev.ludovic.netlib.blas.JNIBLAS\n",
      "                                                                                "
     ]
    }
   ],
   "source": [
    "model = als.fit(train)"
   ]
  },
  {
   "cell_type": "code",
   "execution_count": 21,
   "id": "0efe96c8-4e7e-4632-9476-944909b9541b",
   "metadata": {},
   "outputs": [
    {
     "name": "stderr",
     "output_type": "stream",
     "text": [
      "[Stage 139:>                                                      (0 + 12) / 12]"
     ]
    },
    {
     "name": "stdout",
     "output_type": "stream",
     "text": [
      "RMSE du modèle ALS sur le test set : 0.7522\n"
     ]
    },
    {
     "name": "stderr",
     "output_type": "stream",
     "text": [
      "                                                                                "
     ]
    }
   ],
   "source": [
    "# evaluation du model\n",
    "predictions = model.transform(test)\n",
    "\n",
    "evaluator = RegressionEvaluator(\n",
    "    metricName=\"rmse\",\n",
    "    labelCol=\"rating\",\n",
    "    predictionCol=\"prediction\"\n",
    ")\n",
    "\n",
    "rmse = evaluator.evaluate(predictions)\n",
    "print(f\"RMSE du modèle ALS sur le test set : {rmse:.4f}\")\n"
   ]
  },
  {
   "cell_type": "code",
   "execution_count": 22,
   "id": "d3467a6d-7aee-4c27-986e-3f50b6cd6b4b",
   "metadata": {},
   "outputs": [
    {
     "name": "stderr",
     "output_type": "stream",
     "text": [
      "                                                                                "
     ]
    }
   ],
   "source": [
    "model.write().overwrite().save(\"hdfs://namenode:9000/movie-lens/models/als_model\")"
   ]
  },
  {
   "cell_type": "code",
   "execution_count": 23,
   "id": "2ea52b0a-bc62-4305-8d99-0eb27ac375f1",
   "metadata": {
    "scrolled": true
   },
   "outputs": [
    {
     "name": "stderr",
     "output_type": "stream",
     "text": [
      "[Stage 253:>                                                      (0 + 12) / 12]"
     ]
    },
    {
     "name": "stdout",
     "output_type": "stream",
     "text": [
      "+------+-------+------+----------+\n",
      "|userId|movieId|rating|prediction|\n",
      "+------+-------+------+----------+\n",
      "|     1|    112|   3.5| 3.4432836|\n",
      "|     1|    260|   4.0|  4.172689|\n",
      "|     1|    318|   4.0|  4.203028|\n",
      "|     1|   1097|   4.0| 3.6698084|\n",
      "|     1|   1198|   4.5| 4.1139584|\n",
      "|     1|   1222|   3.5| 3.7203972|\n",
      "|     1|   1304|   3.0| 3.6708007|\n",
      "|     1|   1525|   3.0| 2.8368628|\n",
      "|     1|   1920|   3.5| 3.0198135|\n",
      "|     1|   1997|   3.5| 3.5845442|\n",
      "+------+-------+------+----------+\n",
      "only showing top 10 rows\n",
      "\n"
     ]
    },
    {
     "name": "stderr",
     "output_type": "stream",
     "text": [
      "                                                                                "
     ]
    }
   ],
   "source": [
    "# Affichage des prédictions 10\n",
    "predictions.select(\"userId\", \"movieId\", \"rating\", \"prediction\").orderBy(\"userId\", \"movieId\").show(10)\n"
   ]
  },
  {
   "cell_type": "code",
   "execution_count": 24,
   "id": "cac2353f-a2c4-4da2-97d9-4be643662804",
   "metadata": {},
   "outputs": [
    {
     "name": "stderr",
     "output_type": "stream",
     "text": [
      "[Stage 279:===================================================>  (96 + 4) / 100]"
     ]
    },
    {
     "name": "stdout",
     "output_type": "stream",
     "text": [
      "+------+-------------------------------------------------------------------------------------------------------------------------------------------------------------------------------------------------------+\n",
      "|userId|recommendations                                                                                                                                                                                        |\n",
      "+------+-------------------------------------------------------------------------------------------------------------------------------------------------------------------------------------------------------+\n",
      "|28    |[{83182, 5.178395}, {1685, 5.0803757}, {6160, 5.0638304}, {88678, 5.0529585}, {78653, 4.9082255}, {82931, 4.8076205}, {105246, 4.797654}, {96592, 4.797654}, {6818, 4.787118}, {87234, 4.7412353}]     |\n",
      "|31    |[{66915, 6.6571393}, {44949, 5.9532495}, {6311, 5.8647633}, {6600, 5.813042}, {4763, 5.5262346}, {52845, 5.339627}, {59295, 5.3141274}, {1817, 5.294243}, {2741, 5.227254}, {5615, 5.180349}]          |\n",
      "|34    |[{95776, 5.569907}, {82931, 5.5009294}, {27369, 5.428817}, {40697, 5.4030166}, {1555, 5.3938937}, {727, 5.3714633}, {6823, 5.3170276}, {108548, 5.2459903}, {54986, 5.205341}, {90428, 5.196193}]      |\n",
      "|53    |[{6823, 5.253464}, {88678, 5.2303066}, {727, 5.2142816}, {105943, 5.171109}, {78653, 5.0823154}, {5071, 5.081363}, {73117, 5.0680413}, {34548, 5.0680413}, {1685, 5.040687}, {2512, 5.029575}]         |\n",
      "|65    |[{88678, 5.0219574}, {727, 4.9964685}, {68472, 4.866468}, {78653, 4.8556213}, {105943, 4.7898107}, {82931, 4.745523}, {6160, 4.729845}, {90428, 4.697534}, {7077, 4.6863413}, {111529, 4.676817}]      |\n",
      "|76    |[{82931, 4.9119687}, {27369, 4.8815303}, {5251, 4.8575306}, {90428, 4.828003}, {727, 4.799212}, {1685, 4.686751}, {54986, 4.675806}, {4261, 4.6551056}, {33270, 4.6186104}, {8625, 4.5886145}]         |\n",
      "|78    |[{40697, 4.771723}, {71640, 4.664293}, {82931, 4.658326}, {27369, 4.5739775}, {5911, 4.5613008}, {59549, 4.489811}, {95776, 4.454647}, {6375, 4.384369}, {6600, 4.376788}, {66289, 4.3680797}]         |\n",
      "|81    |[{40697, 6.3000765}, {82931, 6.2354035}, {95776, 6.220814}, {5911, 6.1635833}, {108548, 6.0477295}, {60007, 6.0401874}, {1555, 6.0097256}, {56006, 5.9891043}, {106762, 5.9749494}, {27369, 5.9482827}]|\n",
      "|85    |[{727, 5.271944}, {82931, 5.2464957}, {1555, 5.215591}, {27369, 5.2071643}, {68472, 5.1050644}, {93498, 5.1022906}, {88678, 5.0261993}, {112006, 5.022302}, {6823, 4.9976335}, {95776, 4.9861135}]     |\n",
      "|101   |[{82931, 5.2431827}, {727, 5.1187997}, {95776, 5.0209064}, {54986, 4.929105}, {40697, 4.914979}, {90428, 4.912849}, {27369, 4.8285055}, {88678, 4.8226485}, {66289, 4.8180237}, {6823, 4.789677}]      |\n",
      "|108   |[{82931, 4.541292}, {727, 4.4615855}, {6823, 4.410399}, {4261, 4.4038434}, {27369, 4.3731775}, {95776, 4.368943}, {40697, 4.296363}, {54986, 4.286446}, {1685, 4.280222}, {1555, 4.271229}]            |\n",
      "|115   |[{6160, 4.713181}, {53883, 4.5885596}, {88678, 4.547828}, {2675, 4.426741}, {729, 4.398883}, {26325, 4.3862114}, {78653, 4.385981}, {92475, 4.3548346}, {82931, 4.3141003}, {108583, 4.2716675}]       |\n",
      "|126   |[{1555, 4.657}, {5251, 4.605425}, {27369, 4.493152}, {108548, 4.4753704}, {95776, 4.4548135}, {5911, 4.4420395}, {82931, 4.4273224}, {93498, 4.411389}, {112006, 4.3627234}, {8208, 4.358934}]         |\n",
      "|133   |[{88678, 4.4878244}, {68472, 4.435557}, {82931, 4.4136605}, {105943, 4.4069715}, {27369, 4.4044642}, {108583, 4.372609}, {90428, 4.371922}, {6160, 4.3709903}, {727, 4.3532057}, {111529, 4.343244}]   |\n",
      "|137   |[{82931, 5.419174}, {27369, 5.4156656}, {727, 5.296085}, {95776, 5.285735}, {90428, 5.214328}, {54986, 5.1368794}, {40697, 5.13351}, {6823, 5.107849}, {4261, 5.091805}, {33270, 5.042412}]            |\n",
      "|148   |[{93040, 5.3484545}, {1555, 5.1836066}, {93498, 5.1539583}, {112006, 5.0784225}, {8733, 5.0423913}, {712, 4.9743943}, {4454, 4.9095607}, {8208, 4.8702374}, {58223, 4.8699174}, {108548, 4.8612537}]   |\n",
      "|155   |[{82931, 4.6966147}, {2675, 4.573465}, {83182, 4.5474153}, {88678, 4.5069265}, {27369, 4.495335}, {66289, 4.4938636}, {727, 4.493091}, {53883, 4.4406056}, {40697, 4.438767}, {6160, 4.3804116}]       |\n",
      "|183   |[{5911, 5.1054893}, {4525, 4.8888893}, {5907, 4.7941732}, {27922, 4.782298}, {104908, 4.693677}, {5718, 4.6834693}, {2834, 4.6801696}, {27704, 4.6436896}, {25963, 4.634437}, {5509, 4.6143117}]       |\n",
      "|193   |[{26280, 4.03077}, {2675, 3.9551954}, {60007, 3.9507604}, {2226, 3.782814}, {53883, 3.755015}, {103688, 3.693561}, {106762, 3.689662}, {1636, 3.6736252}, {46848, 3.671689}, {26965, 3.650714}]        |\n",
      "|210   |[{82931, 5.9085135}, {25963, 5.7993975}, {27369, 5.7991962}, {31930, 5.561397}, {4261, 5.54126}, {31545, 5.5002227}, {33603, 5.459476}, {100106, 5.442859}, {83359, 5.421533}, {68173, 5.4152594}]     |\n",
      "+------+-------------------------------------------------------------------------------------------------------------------------------------------------------------------------------------------------------+\n",
      "only showing top 20 rows\n",
      "\n"
     ]
    },
    {
     "name": "stderr",
     "output_type": "stream",
     "text": [
      "                                                                                "
     ]
    }
   ],
   "source": [
    "#Recommander les 10 meilleurs films pour chaque utilisateur\n",
    "user_recommendations = model.recommendForAllUsers(10)\n",
    "user_recommendations.show(truncate=False)\n"
   ]
  },
  {
   "cell_type": "code",
   "execution_count": 25,
   "id": "43b04ea1-0660-44a5-ba65-e7c4d83d38e0",
   "metadata": {},
   "outputs": [
    {
     "name": "stderr",
     "output_type": "stream",
     "text": [
      "[Stage 332:=================================================>    (91 + 9) / 100]"
     ]
    },
    {
     "name": "stdout",
     "output_type": "stream",
     "text": [
      "+-------+--------------------------------------------------------------------------------------------------------------------------------------------------------------------------------------------+\n",
      "|movieId|recommendations                                                                                                                                                                             |\n",
      "+-------+--------------------------------------------------------------------------------------------------------------------------------------------------------------------------------------------+\n",
      "|28     |[{2572, 5.048024}, {862, 4.999926}, {4539, 4.9911613}, {1362, 4.934133}, {1943, 4.9096384}, {6354, 4.902889}, {722, 4.8665247}, {741, 4.841887}, {3654, 4.8143783}, {2180, 4.8024755}]      |\n",
      "|31     |[{3493, 4.8696265}, {5071, 4.7865405}, {3939, 4.7798247}, {3615, 4.7748055}, {2424, 4.744201}, {434, 4.7315307}, {3926, 4.713034}, {6678, 4.677958}, {3354, 4.656839}, {6126, 4.648616}]    |\n",
      "|34     |[{113, 4.974011}, {3843, 4.885621}, {1464, 4.832943}, {4894, 4.830202}, {4404, 4.823907}, {2572, 4.8141074}, {1517, 4.799808}, {6354, 4.778422}, {3305, 4.7639275}, {3504, 4.7616725}]      |\n",
      "|53     |[{113, 5.3952885}, {5430, 5.331803}, {2180, 5.0032907}, {3374, 4.9248066}, {3784, 4.902625}, {4704, 4.8874445}, {2572, 4.884725}, {6723, 4.849684}, {5391, 4.8456044}, {2441, 4.796257}]    |\n",
      "|65     |[{5340, 4.464444}, {5252, 4.3532963}, {3615, 4.3018103}, {1805, 4.2808695}, {1660, 4.244131}, {1059, 4.224662}, {6521, 4.2149634}, {1017, 4.204897}, {676, 4.1538043}, {6678, 4.108476}]    |\n",
      "|78     |[{3354, 4.2828646}, {5430, 4.273119}, {4819, 4.2150326}, {6402, 4.186093}, {5340, 4.1573367}, {3926, 4.1511703}, {5413, 4.1409616}, {3861, 4.1186604}, {4704, 4.0834947}, {3143, 4.0810437}]|\n",
      "|81     |[{3354, 4.469222}, {5430, 4.467327}, {3926, 4.4162874}, {3615, 4.3334026}, {5413, 4.320603}, {6521, 4.300461}, {5340, 4.2898903}, {81, 4.286897}, {4819, 4.2829905}, {6402, 4.281993}]      |\n",
      "|85     |[{5430, 4.7878847}, {4704, 4.6772017}, {113, 4.583911}, {2572, 4.5780435}, {4539, 4.5246425}, {3926, 4.4671135}, {1894, 4.4273214}, {4738, 4.4163575}, {3745, 4.3827634}, {2554, 4.3790474}]|\n",
      "|101    |[{3261, 4.9282527}, {6100, 4.8716283}, {5430, 4.69003}, {2763, 4.677776}, {3354, 4.6739197}, {5984, 4.6642423}, {2180, 4.6632495}, {4640, 4.661769}, {2617, 4.6139007}, {6588, 4.61314}]    |\n",
      "|108    |[{3926, 4.892523}, {4404, 4.864345}, {6521, 4.851069}, {5340, 4.8224115}, {5071, 4.8152313}, {3493, 4.7988424}, {3354, 4.7929306}, {3939, 4.786978}, {2424, 4.762456}, {4258, 4.755647}]    |\n",
      "|126    |[{5340, 3.806613}, {3615, 3.688394}, {6204, 3.657506}, {2057, 3.5912263}, {3939, 3.5903192}, {1537, 3.5835912}, {1660, 3.5709083}, {5640, 3.5652099}, {1217, 3.5601566}, {5626, 3.5466352}] |\n",
      "|133    |[{113, 2.3382905}, {3261, 2.313544}, {3564, 2.2916696}, {1517, 2.2559588}, {3480, 2.2328072}, {1263, 2.2152255}, {1982, 2.207445}, {5200, 2.191929}, {1397, 2.1766448}, {4095, 2.1737282}]  |\n",
      "|137    |[{5430, 5.1110787}, {3615, 5.0862193}, {4946, 5.050909}, {3354, 5.0038376}, {6678, 4.957984}, {5340, 4.9416223}, {3926, 4.8918533}, {6521, 4.8509393}, {1247, 4.8324494}, {1947, 4.7889156}]|\n",
      "|148    |[{6280, 4.334373}, {2763, 4.2073154}, {4152, 4.1590405}, {3335, 4.028593}, {3261, 3.9791355}, {876, 3.9204533}, {3374, 3.9165733}, {5355, 3.9083283}, {4640, 3.863902}, {5318, 3.8357248}]  |\n",
      "|155    |[{5430, 4.983059}, {6100, 4.8273563}, {3354, 4.7621865}, {1017, 4.6219325}, {4704, 4.572556}, {6402, 4.5588145}, {5340, 4.5579348}, {3926, 4.546159}, {3784, 4.5414805}, {3261, 4.5389857}] |\n",
      "|183    |[{6402, 4.298588}, {3354, 4.2731476}, {3097, 4.204697}, {434, 4.1804895}, {4404, 4.1359406}, {6424, 4.1074576}, {4704, 4.0993776}, {5430, 4.0603724}, {3926, 4.0430503}, {81, 4.032216}]    |\n",
      "|193    |[{5340, 4.1367273}, {5071, 3.96905}, {5640, 3.9018264}, {6402, 3.8542728}, {3493, 3.8484123}, {2424, 3.825965}, {3926, 3.8191493}, {6521, 3.799587}, {434, 3.7811258}, {1537, 3.7735255}]   |\n",
      "|210    |[{5430, 3.9816334}, {3354, 3.8913467}, {3926, 3.8178036}, {113, 3.8156092}, {5640, 3.7771666}, {2424, 3.7635853}, {1894, 3.7612903}, {5340, 3.7611032}, {434, 3.730297}, {4404, 3.72073}]   |\n",
      "|211    |[{5430, 5.0381913}, {6100, 4.9914827}, {4258, 4.6854696}, {4704, 4.6625347}, {3926, 4.6356177}, {653, 4.6352124}, {914, 4.6294513}, {3354, 4.6279364}, {3374, 4.622287}, {5340, 4.5653677}] |\n",
      "|243    |[{1464, 3.657142}, {3843, 3.6383553}, {176, 3.6070464}, {1894, 3.598035}, {1499, 3.5966072}, {4528, 3.582671}, {3828, 3.5763881}, {4491, 3.572081}, {1472, 3.553619}, {4418, 3.5115447}]    |\n",
      "+-------+--------------------------------------------------------------------------------------------------------------------------------------------------------------------------------------------+\n",
      "only showing top 20 rows\n",
      "\n"
     ]
    },
    {
     "name": "stderr",
     "output_type": "stream",
     "text": [
      "                                                                                "
     ]
    }
   ],
   "source": [
    "#  Recommander les 10 meilleurs utilisateurs pour chaque film :\n",
    "movie_recommendations = model.recommendForAllItems(10)\n",
    "movie_recommendations.show(truncate=False)\n"
   ]
  },
  {
   "cell_type": "code",
   "execution_count": 26,
   "id": "e374749e-7ba2-4ac1-9ae2-f92f3c889784",
   "metadata": {},
   "outputs": [
    {
     "name": "stdout",
     "output_type": "stream",
     "text": [
      "+------+-----------------------------------------------------------------------------------------------------------------------------------------------------------------------------------------+\n",
      "|userId|recommendations                                                                                                                                                                          |\n",
      "+------+-----------------------------------------------------------------------------------------------------------------------------------------------------------------------------------------+\n",
      "|123   |[{727, 4.712902}, {6823, 4.664118}, {82931, 4.570569}, {7077, 4.498721}, {88678, 4.4797106}, {5484, 4.452812}, {5251, 4.450688}, {27369, 4.4186525}, {4261, 4.408932}, {95776, 4.404784}]|\n",
      "+------+-----------------------------------------------------------------------------------------------------------------------------------------------------------------------------------------+\n",
      "\n"
     ]
    }
   ],
   "source": [
    "# Pour un utilisateur spécifique \n",
    "single_user = ratings.select(\"userId\").distinct().filter(col(\"userId\") == 123)\n",
    "\n",
    "recommendations_123 = model.recommendForUserSubset(single_user, 10)\n",
    "recommendations_123.show(truncate=False)\n"
   ]
  },
  {
   "cell_type": "code",
   "execution_count": null,
   "id": "ccb0f92b-634f-495b-9139-9e91fb470447",
   "metadata": {},
   "outputs": [],
   "source": []
  }
 ],
 "metadata": {
  "kernelspec": {
   "display_name": "Python 3 (ipykernel)",
   "language": "python",
   "name": "python3"
  },
  "language_info": {
   "codemirror_mode": {
    "name": "ipython",
    "version": 3
   },
   "file_extension": ".py",
   "mimetype": "text/x-python",
   "name": "python",
   "nbconvert_exporter": "python",
   "pygments_lexer": "ipython3",
   "version": "3.10.12"
  }
 },
 "nbformat": 4,
 "nbformat_minor": 5
}
